{
 "cells": [
  {
   "cell_type": "markdown",
   "metadata": {},
   "source": [
    "<!-- # RadiViz Toolkit v1.0\n",
    "## Author: <Zhenwei Shi>\n",
    "## Email: <shizhenwei@gdph.org.cn>\n",
    "## Date: 2023/06/01 -->\n",
    "\n",
    "\n",
    "<b>RadiViz Toolkit v1.0</b>\n",
    "\n",
    "<b>Author:</b> Zhenwei Shi\n",
    "<b>Email:</b> shizhenwei@gdph.org.cn\n",
    "<b>Date:</b> 2023/06/01"
   ]
  },
  {
   "cell_type": "markdown",
   "metadata": {},
   "source": [
    "## Generate casetable"
   ]
  },
  {
   "cell_type": "markdown",
   "metadata": {},
   "source": []
  },
  {
   "cell_type": "code",
   "execution_count": 24,
   "metadata": {},
   "outputs": [],
   "source": [
    "import pandas as pd\n",
    "import numpy as np\n",
    "import glob\n",
    "import os"
   ]
  },
  {
   "cell_type": "markdown",
   "metadata": {},
   "source": [
    "### 情况1"
   ]
  },
  {
   "cell_type": "code",
   "execution_count": 34,
   "metadata": {},
   "outputs": [
    {
     "data": {
      "text/html": [
       "<div>\n",
       "<style scoped>\n",
       "    .dataframe tbody tr th:only-of-type {\n",
       "        vertical-align: middle;\n",
       "    }\n",
       "\n",
       "    .dataframe tbody tr th {\n",
       "        vertical-align: top;\n",
       "    }\n",
       "\n",
       "    .dataframe thead th {\n",
       "        text-align: right;\n",
       "    }\n",
       "</style>\n",
       "<table border=\"1\" class=\"dataframe\">\n",
       "  <thead>\n",
       "    <tr style=\"text-align: right;\">\n",
       "      <th></th>\n",
       "      <th>ID</th>\n",
       "      <th>Image</th>\n",
       "      <th>Mask</th>\n",
       "    </tr>\n",
       "  </thead>\n",
       "  <tbody>\n",
       "    <tr>\n",
       "      <th>0</th>\n",
       "      <td>p111</td>\n",
       "      <td>../data/data4casetable/data1/p111/DCE_image.ni...</td>\n",
       "      <td>../data/data4casetable/data1/p111/DCE_mask.nii.gz</td>\n",
       "    </tr>\n",
       "    <tr>\n",
       "      <th>0</th>\n",
       "      <td>p123</td>\n",
       "      <td>../data/data4casetable/data1/p123/DCE_image.ni...</td>\n",
       "      <td>../data/data4casetable/data1/p123/DCE_mask.nii.gz</td>\n",
       "    </tr>\n",
       "  </tbody>\n",
       "</table>\n",
       "</div>"
      ],
      "text/plain": [
       "     ID                                              Image  \\\n",
       "0  p111  ../data/data4casetable/data1/p111/DCE_image.ni...   \n",
       "0  p123  ../data/data4casetable/data1/p123/DCE_image.ni...   \n",
       "\n",
       "                                                Mask  \n",
       "0  ../data/data4casetable/data1/p111/DCE_mask.nii.gz  \n",
       "0  ../data/data4casetable/data1/p123/DCE_mask.nii.gz  "
      ]
     },
     "execution_count": 34,
     "metadata": {},
     "output_type": "execute_result"
    }
   ],
   "source": [
    "# 如何图像和mask都放在一个文件，需要按照以下规则存储\n",
    "# 图像文件名：P123_image.nii.gz\n",
    "# 掩码文件名：P123_mask.nii.gz\n",
    "\n",
    "data_dir = r'../data/data4casetable/data1/'\n",
    "\n",
    "casetable = pd.DataFrame(columns=['ID', 'Image', 'Mask'])\n",
    "for ptid in os.listdir(data_dir):\n",
    "\n",
    "    img_file = sorted(glob.glob(os.path.join(data_dir, ptid,'*image.nii.gz'), recursive=True))\n",
    "    mask_file = sorted(glob.glob(os.path.join(data_dir,ptid,'*mask.nii.gz'), recursive=True))\n",
    "\n",
    "    df_tmp = pd.DataFrame({'ID':ptid, 'Image':img_file, 'Mask':mask_file})\n",
    "    casetable = pd.concat([casetable, df_tmp], axis=0)\n",
    "\n",
    "casetable.to_csv(os.path.join(r'../data/data4casetable/', 'casetable_data1.csv'), index=False)\n",
    "casetable"
   ]
  },
  {
   "cell_type": "markdown",
   "metadata": {},
   "source": [
    "### 情况2"
   ]
  },
  {
   "cell_type": "code",
   "execution_count": 35,
   "metadata": {},
   "outputs": [
    {
     "data": {
      "text/html": [
       "<div>\n",
       "<style scoped>\n",
       "    .dataframe tbody tr th:only-of-type {\n",
       "        vertical-align: middle;\n",
       "    }\n",
       "\n",
       "    .dataframe tbody tr th {\n",
       "        vertical-align: top;\n",
       "    }\n",
       "\n",
       "    .dataframe thead th {\n",
       "        text-align: right;\n",
       "    }\n",
       "</style>\n",
       "<table border=\"1\" class=\"dataframe\">\n",
       "  <thead>\n",
       "    <tr style=\"text-align: right;\">\n",
       "      <th></th>\n",
       "      <th>ID</th>\n",
       "      <th>Image</th>\n",
       "      <th>Mask</th>\n",
       "    </tr>\n",
       "  </thead>\n",
       "  <tbody>\n",
       "    <tr>\n",
       "      <th>0</th>\n",
       "      <td>p111</td>\n",
       "      <td>../data/data4casetable/data2/p111/Image/DCE_im...</td>\n",
       "      <td>../data/data4casetable/data2/p111/Mask/DCE_mas...</td>\n",
       "    </tr>\n",
       "    <tr>\n",
       "      <th>0</th>\n",
       "      <td>p123</td>\n",
       "      <td>../data/data4casetable/data2/p123/Image/DCE_im...</td>\n",
       "      <td>../data/data4casetable/data2/p123/Mask/DCE_mas...</td>\n",
       "    </tr>\n",
       "  </tbody>\n",
       "</table>\n",
       "</div>"
      ],
      "text/plain": [
       "     ID                                              Image  \\\n",
       "0  p111  ../data/data4casetable/data2/p111/Image/DCE_im...   \n",
       "0  p123  ../data/data4casetable/data2/p123/Image/DCE_im...   \n",
       "\n",
       "                                                Mask  \n",
       "0  ../data/data4casetable/data2/p111/Mask/DCE_mas...  \n",
       "0  ../data/data4casetable/data2/p123/Mask/DCE_mas...  "
      ]
     },
     "execution_count": 35,
     "metadata": {},
     "output_type": "execute_result"
    }
   ],
   "source": [
    "# 如何图像和mask分别放在不同的文件夹，需要按照以下规则存储\n",
    "# 图像文件夹名：/data/P123/Image/xxx.nii.gz\n",
    "# 掩码文件名：/data/P123/Mask/xxx.nii.gz\n",
    "\n",
    "data_dir = r'../data/data4casetable/data2/'\n",
    "\n",
    "casetable = pd.DataFrame(columns=['ID', 'Image', 'Mask'])\n",
    "for ptid in os.listdir(data_dir):\n",
    "    \n",
    "    img_file = sorted(glob.glob(os.path.join(data_dir, ptid,'Image','*.nii.gz'), recursive=True))\n",
    "    mask_file = sorted(glob.glob(os.path.join(data_dir,ptid,'Mask','*.nii.gz'), recursive=True))\n",
    "    \n",
    "    df_tmp = pd.DataFrame({'ID':ptid, 'Image':img_file, 'Mask':mask_file})\n",
    "    casetable = pd.concat([casetable, df_tmp], axis=0)\n",
    "\n",
    "casetable.to_csv(os.path.join(r'../data/data4casetable/', 'casetable_data2.csv'), index=False)\n",
    "casetable"
   ]
  },
  {
   "cell_type": "code",
   "execution_count": null,
   "metadata": {},
   "outputs": [],
   "source": []
  }
 ],
 "metadata": {
  "kernelspec": {
   "display_name": "mma1",
   "language": "python",
   "name": "python3"
  },
  "language_info": {
   "codemirror_mode": {
    "name": "ipython",
    "version": 3
   },
   "file_extension": ".py",
   "mimetype": "text/x-python",
   "name": "python",
   "nbconvert_exporter": "python",
   "pygments_lexer": "ipython3",
   "version": "3.9.0"
  }
 },
 "nbformat": 4,
 "nbformat_minor": 2
}
